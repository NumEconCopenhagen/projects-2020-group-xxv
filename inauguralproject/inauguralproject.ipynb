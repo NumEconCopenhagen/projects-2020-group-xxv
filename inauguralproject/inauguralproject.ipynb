{
 "cells": [
  {
   "cell_type": "code",
   "execution_count": null,
   "metadata": {},
   "outputs": [],
   "source": []
  },
  {
   "cell_type": "markdown",
   "metadata": {},
   "source": [
    "# Inaugural Project"
   ]
  },
  {
   "cell_type": "markdown",
   "metadata": {},
   "source": [
    "Imports and set magics:"
   ]
  },
  {
   "cell_type": "code",
   "execution_count": 7,
   "metadata": {},
   "outputs": [],
   "source": [
    "import numpy as np\n",
    "\n",
    "# autoreload modules when code is run\n",
    "%load_ext autoreload\n",
    "%autoreload 2\n",
    "\n",
    "# local modules\n",
    "import inauguralproject"
   ]
  },
  {
   "cell_type": "markdown",
   "metadata": {
    "toc-hr-collapsed": true
   },
   "source": [
    "# Question 1"
   ]
  },
  {
   "cell_type": "markdown",
   "metadata": {},
   "source": [
    "BRIEFLY EXPLAIN HOW YOU SOLVE THE MODEL."
   ]
  },
  {
   "cell_type": "code",
   "execution_count": 8,
   "metadata": {},
   "outputs": [],
   "source": [
    "# code for solving the model (remember documentation and comments) This is fine\n",
    "# Using condition (2) on equation(1) we define the utility function of the consumer:\n",
    "def utility(w, l, m = 1, v = 10, epsilon = 0.3, tau0 = 0.4, tau1 = 0.1, kappa = 0.4):\n",
    "    tax = tau0*w*l+tau1*np.fmax(w*l-kappa,0)\n",
    "    c = m+w*l-tax\n",
    "    utility = np.log(c)-v*l**(1+1/epsilon)/(1+1/epsilon)\n",
    "    return utility,c, tax"
   ]
  },
  {
   "cell_type": "code",
   "execution_count": 14,
   "metadata": {},
   "outputs": [],
   "source": [
    "# Then we create a function to maximize the utility for given parameters:\n",
    "def solveconsumerproblem(w, m = 1, v = 10, epsilon = 0.3, tau0 = 0.4, tau1 = 0.1, kappa = 0.4, N=200,\n",
    "                         callableoutput=False, tax=False):\n",
    "    \n",
    "    c_star = [0]\n",
    "    l_star = [0]\n",
    "    t_star = [0]\n",
    "    utility_star = [-np.inf]\n",
    "    \n",
    "    Range = np.linspace(0, 1, N)\n",
    "    for i in Range:\n",
    "        utility_temp = utility(l = i, w = w)\n",
    "        if utility_temp[0]>utility_star:\n",
    "            utility_star[0]=utility_temp[0]\n",
    "            l_star[0] = i\n",
    "            c_star[0] = utility_temp[1]\n",
    "            t_star[0] = utility_temp[2]\n",
    "\n",
    "    if tax == False:\n",
    "        if callableoutput == False:\n",
    "            print(\"F STRING HER\")\n",
    "        else:\n",
    "            return utility_star[0], l_star[0], c_star[0]\n",
    "    \n",
    "    if tax == True:\n",
    "        if callableoutput == False:\n",
    "            print(\"F STRING HER OGSÅ, BARE MED SKAT\")\n",
    "        else:\n",
    "            return utility_star[0], l_star[0], c_star[0], t_star[0]"
   ]
  },
  {
   "cell_type": "code",
   "execution_count": 17,
   "metadata": {},
   "outputs": [
    {
     "data": {
      "text/plain": "(0.250011748191049, 0.4221105527638191, 1.356582914572864, 0.2765829145728643)"
     },
     "execution_count": 17,
     "metadata": {},
     "output_type": "execute_result"
    }
   ],
   "source": [
    "solveconsumerproblem(w=1.5, callableoutput=True, tax=True)"
   ]
  },
  {
   "cell_type": "markdown",
   "metadata": {},
   "source": [
    "# Question 2"
   ]
  },
  {
   "cell_type": "markdown",
   "metadata": {},
   "source": [
    "ADD ANSWER."
   ]
  },
  {
   "cell_type": "code",
   "execution_count": 21,
   "metadata": {},
   "outputs": [
    {
     "name": "stdout",
     "output_type": "stream",
     "text": "[0.3417085427135678, 0.3417085427135678, 0.3417085427135678, 0.3417085427135678, 0.3417085427135678, 0.3417085427135678, 0.34673366834170855, 0.34673366834170855, 0.34673366834170855, 0.34673366834170855, 0.34673366834170855, 0.34673366834170855, 0.35175879396984927, 0.35175879396984927, 0.35175879396984927, 0.35175879396984927, 0.35175879396984927, 0.35175879396984927, 0.35678391959798994, 0.35678391959798994, 0.35678391959798994, 0.35678391959798994, 0.35678391959798994, 0.35678391959798994, 0.35678391959798994, 0.36180904522613067, 0.36180904522613067, 0.36180904522613067, 0.36180904522613067, 0.36180904522613067, 0.36180904522613067, 0.36180904522613067, 0.36683417085427134, 0.36683417085427134, 0.36683417085427134, 0.36683417085427134, 0.36683417085427134, 0.36683417085427134, 0.36683417085427134, 0.37185929648241206, 0.37185929648241206, 0.37185929648241206, 0.37185929648241206, 0.37185929648241206, 0.37185929648241206, 0.37185929648241206, 0.37185929648241206, 0.3768844221105528, 0.3768844221105528, 0.3768844221105528, 0.3768844221105528, 0.3768844221105528, 0.3768844221105528, 0.3768844221105528, 0.3768844221105528, 0.38190954773869346, 0.38190954773869346, 0.38190954773869346, 0.38190954773869346, 0.38190954773869346, 0.38190954773869346, 0.38190954773869346, 0.38190954773869346, 0.38190954773869346, 0.3869346733668342, 0.3869346733668342, 0.3869346733668342, 0.3869346733668342, 0.3869346733668342, 0.3869346733668342, 0.3869346733668342, 0.3869346733668342, 0.3869346733668342, 0.3919597989949749, 0.3919597989949749, 0.3919597989949749, 0.3919597989949749, 0.3919597989949749, 0.3919597989949749, 0.3919597989949749, 0.3919597989949749, 0.3919597989949749, 0.3919597989949749, 0.3969849246231156, 0.3969849246231156, 0.3969849246231156, 0.3969849246231156, 0.3969849246231156, 0.3969849246231156, 0.3969849246231156, 0.3969849246231156, 0.3969849246231156, 0.3969849246231156, 0.4020100502512563, 0.4020100502512563, 0.4020100502512563, 0.4020100502512563, 0.4020100502512563, 0.4020100502512563, 0.3969849246231156, 0.3969849246231156, 0.3969849246231156, 0.3969849246231156, 0.3919597989949749, 0.3919597989949749, 0.3919597989949749, 0.3869346733668342, 0.3869346733668342, 0.3869346733668342, 0.3869346733668342, 0.3869346733668342, 0.3869346733668342, 0.3869346733668342, 0.3869346733668342, 0.3869346733668342, 0.3869346733668342, 0.3919597989949749, 0.3919597989949749, 0.3919597989949749, 0.3919597989949749, 0.3919597989949749, 0.3919597989949749, 0.3919597989949749, 0.3919597989949749, 0.3919597989949749, 0.3919597989949749, 0.3919597989949749, 0.3919597989949749, 0.3969849246231156, 0.3969849246231156, 0.3969849246231156, 0.3969849246231156, 0.3969849246231156, 0.3969849246231156, 0.3969849246231156, 0.3969849246231156, 0.3969849246231156, 0.3969849246231156, 0.3969849246231156, 0.3969849246231156, 0.4020100502512563, 0.4020100502512563, 0.4020100502512563, 0.4020100502512563, 0.4020100502512563, 0.4020100502512563, 0.4020100502512563, 0.4020100502512563, 0.4020100502512563, 0.4020100502512563, 0.4020100502512563, 0.4020100502512563, 0.4020100502512563, 0.4020100502512563, 0.40703517587939697, 0.40703517587939697, 0.40703517587939697, 0.40703517587939697, 0.40703517587939697, 0.40703517587939697, 0.40703517587939697, 0.40703517587939697, 0.40703517587939697, 0.40703517587939697, 0.40703517587939697, 0.40703517587939697, 0.40703517587939697, 0.40703517587939697, 0.4120603015075377, 0.4120603015075377, 0.4120603015075377, 0.4120603015075377, 0.4120603015075377, 0.4120603015075377, 0.4120603015075377, 0.4120603015075377, 0.4120603015075377, 0.4120603015075377, 0.4120603015075377, 0.4120603015075377, 0.4120603015075377, 0.4120603015075377, 0.4120603015075377, 0.4170854271356784, 0.4170854271356784, 0.4170854271356784, 0.4170854271356784, 0.4170854271356784, 0.4170854271356784, 0.4170854271356784, 0.4170854271356784, 0.4170854271356784, 0.4170854271356784, 0.4170854271356784, 0.4170854271356784, 0.4170854271356784, 0.4170854271356784, 0.4170854271356784, 0.4170854271356784, 0.4221105527638191]\n"
    }
   ],
   "source": [
    "# We start by generating lists of $l^*$ and $c^*$, containing the optimal values of l and c, for a given w.\n",
    "\n",
    "w_range = np.linspace(0.5, 1.5, 200) # We define a range of w\n",
    "\n",
    "# We create the empty lists for the output\n",
    "l_list = []\n",
    "c_list = []\n",
    "\n",
    "# Then we loop through the w_range and save the optimal values of c and l\n",
    "for i in w_range:\n",
    "    l_list.append(solveconsumerproblem(w = i, callableoutput=True)[1])\n",
    "    c_list.append(solveconsumerproblem(w = i, callableoutput=True)[2])\n",
    "print(l_list)"
   ]
  },
  {
   "cell_type": "markdown",
   "metadata": {},
   "source": [
    "# Question 3"
   ]
  },
  {
   "cell_type": "markdown",
   "metadata": {},
   "source": [
    "ADD ANSWER."
   ]
  },
  {
   "cell_type": "code",
   "execution_count": 4,
   "metadata": {},
   "outputs": [],
   "source": [
    "# code"
   ]
  },
  {
   "cell_type": "markdown",
   "metadata": {},
   "source": [
    "# Question 4"
   ]
  },
  {
   "cell_type": "markdown",
   "metadata": {},
   "source": [
    "ADD ANSWER."
   ]
  },
  {
   "cell_type": "code",
   "execution_count": 5,
   "metadata": {},
   "outputs": [],
   "source": [
    "# code"
   ]
  },
  {
   "cell_type": "markdown",
   "metadata": {},
   "source": [
    "# Question 5"
   ]
  },
  {
   "cell_type": "markdown",
   "metadata": {},
   "source": [
    "ADD ANSWER."
   ]
  },
  {
   "cell_type": "code",
   "execution_count": 6,
   "metadata": {},
   "outputs": [],
   "source": [
    "# code"
   ]
  },
  {
   "cell_type": "markdown",
   "metadata": {},
   "source": [
    "# Conclusion"
   ]
  },
  {
   "cell_type": "markdown",
   "metadata": {},
   "source": [
    "ADD CONCISE CONLUSION."
   ]
  }
 ],
 "metadata": {
  "kernelspec": {
   "display_name": "Python 3",
   "language": "python",
   "name": "python3"
  },
  "language_info": {
   "codemirror_mode": {
    "name": "ipython",
    "version": 3
   },
   "file_extension": ".py",
   "mimetype": "text/x-python",
   "name": "python",
   "nbconvert_exporter": "python",
   "pygments_lexer": "ipython3",
   "version": "3.7.4-final"
  },
  "toc-autonumbering": true
 },
 "nbformat": 4,
 "nbformat_minor": 4
}