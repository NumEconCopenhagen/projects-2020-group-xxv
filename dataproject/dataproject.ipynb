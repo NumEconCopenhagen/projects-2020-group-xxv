{
 "cells": [
  {
   "cell_type": "markdown",
   "metadata": {},
   "source": [
    "# YOUR PROJECT TITLE"
   ]
  },
  {
   "cell_type": "markdown",
   "metadata": {},
   "source": [
    "> **Note the following:** \n",
    "> 1. This is *not* meant to be an example of an actual **data analysis project**, just an example of how to structure such a project.\n",
    "> 1. Remember the general advice on structuring and commenting your code from [lecture 5](https://numeconcopenhagen.netlify.com/lectures/Workflow_and_debugging).\n",
    "> 1. Remember this [guide](https://www.markdownguide.org/basic-syntax/) on markdown and (a bit of) latex.\n",
    "> 1. Turn on automatic numbering by clicking on the small icon on top of the table of contents in the left sidebar.\n",
    "> 1. The `dataproject.py` file includes a function which will be used multiple times in this notebook."
   ]
  },
  {
   "cell_type": "markdown",
   "metadata": {},
   "source": [
    "Imports and set magics:"
   ]
  },
  {
   "cell_type": "code",
   "execution_count": 1,
   "metadata": {},
   "outputs": [
    {
     "output_type": "error",
     "ename": "ValueError",
     "evalue": "source code string cannot contain null bytes",
     "traceback": [
      "\u001b[1;31m---------------------------------------------------------------------------\u001b[0m",
      "\u001b[1;31mValueError\u001b[0m                                Traceback (most recent call last)",
      "\u001b[1;32m<ipython-input-1-a1a6d5b5395d>\u001b[0m in \u001b[0;36m<module>\u001b[1;34m\u001b[0m\n\u001b[0;32m     27\u001b[0m \u001b[1;33m\u001b[0m\u001b[0m\n\u001b[0;32m     28\u001b[0m \u001b[1;31m# local modules\u001b[0m\u001b[1;33m\u001b[0m\u001b[1;33m\u001b[0m\u001b[1;33m\u001b[0m\u001b[0m\n\u001b[1;32m---> 29\u001b[1;33m \u001b[1;32mimport\u001b[0m \u001b[0mdataproject\u001b[0m\u001b[1;33m\u001b[0m\u001b[1;33m\u001b[0m\u001b[0m\n\u001b[0m",
      "\u001b[1;31mValueError\u001b[0m: source code string cannot contain null bytes"
     ]
    }
   ],
   "source": [
    "import pandas as pd\n",
    "import matplotlib.pyplot as plt\n",
    "import ipywidgets as widgets\n",
    "from pandas_datareader import wb\n",
    "import pandas_datareader\n",
    "import pydst\n",
    "import numpy as np\n",
    "import json\n",
    "import pickle\n",
    "# Geopandas is used to load the world map data. \n",
    "import geopandas as gpd # Geopandas can be installed with conda install geopandas\n",
    "\n",
    "# Bokeh is used for the interactive world map\n",
    "from bokeh.io import output_notebook, show, output_file # Bokeh can be installed with conda install bokeh\n",
    "from bokeh.plotting import figure\n",
    "from bokeh.models import GeoJSONDataSource, LinearColorMapper, ColorBar\n",
    "from bokeh.palettes import brewer\n",
    "from bokeh.io import curdoc, output_notebook\n",
    "from bokeh.models import Slider, HoverTool\n",
    "from bokeh.layouts import widgetbox, row, column\n",
    "\n",
    "\n",
    "\n",
    "# autoreload modules when code is run\n",
    "%load_ext autoreload\n",
    "%autoreload 2\n",
    "\n",
    "# local modules\n",
    "import dataproject"
   ]
  },
  {
   "cell_type": "code",
   "execution_count": null,
   "metadata": {},
   "outputs": [],
   "source": [
    "Dst = pydst.Dst(lang=\"en\") # Set DST language to english"
   ]
  },
  {
   "cell_type": "code",
   "execution_count": null,
   "metadata": {},
   "outputs": [],
   "source": [
    "# We found a list of countrynames online at https://gist.github.com/pamelafox/986163 we then saved it using pickle and now open it again. We use this list later to only get countries when using the world bank api.\n",
    "with open(f\"dataproject.py\", \"rb\") as f:\n",
    "    data = pickle.load(f)\n",
    "    countries = data[\"countries\"]"
   ]
  },
  {
   "cell_type": "markdown",
   "metadata": {
    "toc-hr-collapsed": true
   },
   "source": [
    "# Pre-introduction code. The making of the world map"
   ]
  },
  {
   "cell_type": "code",
   "execution_count": null,
   "metadata": {},
   "outputs": [],
   "source": [
    "worldshape = gpd.read_file(\"ne_110m_admin_0_countries/ne_110m_admin_0_countries.shp\")[[\"ADMIN\", \"ADM0_A3\", \"geometry\"]] # We load the shp. file of the world map geometry. The source of the map is http://www.naturalearthdata.com/downloads/10m-cultural-vectors/, where we chose 1:110m scale Countries map, since this renders much quicker than more precise geometry (we learned that the hard way)."
   ]
  },
  {
   "cell_type": "code",
   "execution_count": null,
   "metadata": {},
   "outputs": [],
   "source": [
    "worldshape.columns = [\"country\", \"ISO3\", \"geometry\"] # We change to column names\n",
    "worldshape[4:5].iloc[0,0] = \"United States\"\n",
    "worldshape[18:19].iloc[0,0] = \"Russian Federation\"\n",
    "# We change the name of the United states and Russia to fit our list of data from World Data Bank. Preferably we'd like to use the ISO3 codes, as they are consisten, however we couldn't find a proper way to merge ISO3 codes onto the World Data Bank data."
   ]
  },
  {
   "cell_type": "code",
   "execution_count": null,
   "metadata": {},
   "outputs": [],
   "source": [
    "print(worldshape[worldshape['country'] == 'Antarctica']) # We locate the index for Antartica so we can remove it, because it takes up a lot of space on the map, but doesn't quite have an economy\n",
    "worldshape = worldshape.drop(worldshape.index[159])"
   ]
  },
  {
   "cell_type": "code",
   "execution_count": null,
   "metadata": {},
   "outputs": [],
   "source": [
    "# Using the previously mentioned countrylist, we create a new list that only has the ISO2 codes for the contries.\n",
    "countrynames = []\n",
    "for i in range(192):\n",
    "    countrynames.append(countries[i][\"code\"])"
   ]
  },
  {
   "cell_type": "code",
   "execution_count": null,
   "metadata": {},
   "outputs": [],
   "source": [
    "# We load the GDP growth data from the World Data Bank, using the countrynames list.\n",
    "wb_gdp = wb.download(indicator='NY.GDP.MKTP.KD.ZG', country=countrynames, start=1990, end=2017)\n",
    "wb_gdp = wb_gdp.reset_index() # Then make some formatting corrections, as the raw dataframe is encoded slightly weird\n",
    "wb_gdp.year = wb_gdp.year.astype(int)"
   ]
  },
  {
   "cell_type": "code",
   "execution_count": null,
   "metadata": {},
   "outputs": [],
   "source": [
    "wb_gdp.columns = [\"country\",\"year\", \"growth\"] # We rename the columns"
   ]
  },
  {
   "cell_type": "code",
   "execution_count": null,
   "metadata": {},
   "outputs": [],
   "source": [
    "# We define a function to take the GDP growth for a single year and merge it with the geometry file.\n",
    "def split_merge(yr):\n",
    "    g_year = wb_gdp[wb_gdp[\"year\"] == yr] # We select only the data for the specified year\n",
    "    g_year_merge = worldshape.merge(g_year, left_on = \"country\", right_on = \"country\", how = \"left\") \n",
    "    # And merge it with the geometry\n",
    "    g_year_merge.loc[:,\"growth\"].fillna(\"No data\", inplace = True) # Then we replace missing observations with \"No data\" - This is used later to color in missing observations\n",
    "    return g_year_merge"
   ]
  },
  {
   "cell_type": "code",
   "execution_count": null,
   "metadata": {},
   "outputs": [],
   "source": [
    "# Then we take 8 specfic years and create dataframes for them.\n",
    "g2004merge = split_merge(2004)\n",
    "g2005merge = split_merge(2005)\n",
    "g2006merge = split_merge(2006)\n",
    "g2007merge = split_merge(2007)\n",
    "g2008merge = split_merge(2008)\n",
    "g2009merge = split_merge(2009)\n",
    "g2010merge = split_merge(2010)\n",
    "g2011merge = split_merge(2011)"
   ]
  },
  {
   "cell_type": "code",
   "execution_count": null,
   "metadata": {},
   "outputs": [],
   "source": [
    "# We define a function to convert the data to json format. This is because Bokeh reads json-format.\n",
    "def convert_to_json(dataframe):\n",
    "    dataframe_json = json.loads(dataframe.to_json())\n",
    "    json_dataframe = json.dumps(dataframe_json)\n",
    "    return json_dataframe"
   ]
  },
  {
   "cell_type": "code",
   "execution_count": null,
   "metadata": {},
   "outputs": [],
   "source": [
    "# We then convert all the merged dataframes to json format. We could probably have used a loop, but annoyingly enough it didn't work, so we do it manually.\n",
    "\n",
    "g2004merge_json = convert_to_json(g2004merge)\n",
    "g2005merge_json = convert_to_json(g2005merge)\n",
    "g2006merge_json = convert_to_json(g2006merge)\n",
    "g2007merge_json = convert_to_json(g2007merge)\n",
    "g2008merge_json = convert_to_json(g2008merge)\n",
    "g2009merge_json = convert_to_json(g2009merge)\n",
    "g2010merge_json = convert_to_json(g2010merge)\n",
    "g2011merge_json = convert_to_json(g2011merge)\n",
    "\n",
    "# I guess we should also explain why we do it individually for each year. We were going to make an interactive world map (and we did, as you can see later) but sadly it cannot run in the notebook (more on that when we get to the interactive map later), so instead we make a panel layout with several world maps you can tab between. "
   ]
  },
  {
   "cell_type": "code",
   "execution_count": null,
   "metadata": {},
   "outputs": [],
   "source": [
    "geosource = GeoJSONDataSource(geojson = g2008merge_json)\n",
    "# Define a color palette, we've chosen red, yellow, green with 11 steps. For more see https://docs.bokeh.org/en/latest/docs/reference/palettes.html\n",
    "palette = brewer[\"RdYlGn\"][10]\n",
    "# We then reverse the color palette so red indicates the lowest values of growth\n",
    "palette = palette [::-1]\n",
    "\n",
    "# Then we create the colormapper\n",
    "color_mapper = LinearColorMapper(palette = palette, low = -5, high = 5, nan_color = '#d9d9d9')\n",
    "\n",
    "# Define the labes for the color bar\n",
    "tick_labels = {\"-5\": \"<-5%\", \"-4\": \"-4%\", \"-3\": \"-3%\", \"-2\": \"-2%\", \"-1\": \"-1%\", \"0\": \"0%\", \"1\": \"1%\", \"2\": \"2%\", \"3\": \"3%\", \"4\": \"4%\", \"5\": \">5%\"}\n",
    "\n",
    "# Then we create the actual color bar\n",
    "color_bar = ColorBar(color_mapper=color_mapper,\n",
    "                     label_standoff = 10, width = 500, height = 20,\n",
    "                     border_line_color = None, location = (0,0), orientation = \"horizontal\",\n",
    "                     major_label_overrides = tick_labels)\n",
    "# WE create a hovertool, so it displays the exact growth when you hover over a country.\n",
    "hover = HoverTool(tooltips = [(\"Country\",\"@country\"), (\"% growth \", \"@growth\")])\n",
    "\n",
    "# Create the figure\n",
    "p = figure(title = \"Annual GDP Growth, 2008\", plot_height = 600, plot_width = 900, \n",
    "           toolbar_location = None, tools = [hover])\n",
    "p.xgrid.grid_line_color = None \n",
    "p.ygrid.grid_line_color = None\n",
    "\n",
    "# Add the patches for the figure - we add the geometry of the worldmap we earlier translated to GeoJson format\n",
    "p.patches(\"xs\",\"ys\", source = geosource, fill_color = {\"field\":\"growth\", \"transform\": color_mapper}, line_color = \"black\", line_width = 0.25, fill_alpha = 1)\n",
    "\n",
    "p.add_layout(color_bar, \"below\")\n",
    "output_notebook()"
   ]
  },
  {
   "cell_type": "code",
   "execution_count": null,
   "metadata": {},
   "outputs": [],
   "source": [
    "create_map_figure(g2004merge_json,g2004)"
   ]
  },
  {
   "cell_type": "markdown",
   "metadata": {},
   "source": [
    "## Now we make it interactive"
   ]
  },
  {
   "cell_type": "code",
   "execution_count": null,
   "metadata": {},
   "outputs": [],
   "source": [
    "# We define a function to return data for a given year:\n",
    "def json_data(selectedYear):\n",
    "    yr = selectedYear\n",
    "    wb_gdp_yr = wb_gdp[wb_gdp[\"year\"] == yr]\n",
    "    merged = worldshape.merge(wb_gdp_yr, left_on = \"country\", right_on = \"country\", how = \"left\")\n",
    "    merged.loc[:,\"growth\"].fillna(\"No data\", inplace = True)\n",
    "    merged_json = json.loads(merged.to_json())\n",
    "    json_data = json.dumps(merged_json)\n",
    "    return json_data\n",
    "\n",
    "# The data source for plotting\n",
    "geosource = GeoJSONDataSource(geojson = json_data(2008))\n",
    "\n",
    "# We define the color palette, we choose red, yellow green\n",
    "palette = brewer[\"RdYlGn\"][10]\n",
    "palette = palette[::-1] # We reverse color order so red means negative growth\n",
    "\n",
    "# Then we create the colormapper using the palette, and defining the interval and the color for missing observations\n",
    "color_mapper = LinearColorMapper(palette = palette, low = -5, high = 5, nan_color = '#d9d9d9')\n",
    "\n",
    "# We define the tick labels for the color bar\n",
    "tick_labels = {\"-5\": \"<-5%\", \"-4\": \"-4%\", \"-3\": \"-3%\", \"-2\": \"-2%\", \"-1\": \"-1%\", \"0\": \"0%\", \"1\": \"1%\", \"2\": \"2%\", \"3\": \"3%\", \"4\": \"4%\", \"5\": \">5%\"}\n",
    "\n",
    "# We add a HoverTool, so you can see the specific data when hovering over a country\n",
    "hover = HoverTool(tooltips = [(\"Country\",\"@country\"), (\"% growth \", \"@growth\")])\n",
    "\n",
    "# We create the actual color bar\n",
    "color_bar = ColorBar(color_mapper=color_mapper,\n",
    "                     label_standoff = 10, width = 500, height = 20,\n",
    "                     border_line_color = None, location = (0,0), orientation = \"horizontal\",\n",
    "                     major_label_overrides = tick_labels)\n",
    "\n",
    "# Then we create the figure objcet \n",
    "p = figure(title = \"Annual GDP Growth, 2008\", plot_height = 600, plot_width = 900, \n",
    "           toolbar_location = None, tools = [hover])\n",
    "p.xgrid.grid_line_color = None \n",
    "p.ygrid.grid_line_color = None\n",
    "\n",
    "# We then add the patches (geometry)\n",
    "p.patches(\"xs\",\"ys\", source = geosource, fill_color = {\"field\":\"growth\", \"transform\": color_mapper}, line_color = \"black\", line_width = 0.25, fill_alpha = 1)\n",
    "\n",
    "# And specify where the color bar goes\n",
    "p.add_layout(color_bar, \"below\")\n",
    "\n",
    "# Then we define a function to update the plot\n",
    "def update_plot(attr, old, new):\n",
    "    yr = slider.value\n",
    "    new_data = json_data(yr)\n",
    "    geosource.geojson = new_data\n",
    "    p.title.text = \"Annual percentage GDP growth\"\n",
    "\n",
    "# We then create the slider\n",
    "slider = Slider(title = \"Year\", start = 1990, end = 2017, step = 1, value = 2009)\n",
    "slider.on_change(\"value\", update_plot)\n",
    "\n",
    "# We then add create a column layout for the plot, so the slider is attached to the map\n",
    "layout = column(p,widgetbox(slider))\n",
    "curdoc().add_root(layout)\n",
    "\n",
    "# We tell Bokeh that we want the output (the world map) to be shown in the notebook\n",
    "output_notebook()"
   ]
  },
  {
   "cell_type": "code",
   "execution_count": null,
   "metadata": {},
   "outputs": [],
   "source": [
    "show(layout)"
   ]
  },
  {
   "cell_type": "markdown",
   "metadata": {},
   "source": [
    "## National accounts identity"
   ]
  },
  {
   "cell_type": "code",
   "execution_count": null,
   "metadata": {},
   "outputs": [],
   "source": [
    "usvariables = [\"GDPCA\", \"PCECCA\",\"GPDICA\", \"IMPGSCA\", \"EXPGSCA\"]\n",
    "US = pandas_datareader.data.DataReader(usvariables,\"fred\", 1960,2019)\n",
    "US.columns = [\"GDP\", \"Private Consumption\", \"Private Investment\", \"Import\", \"Export\"]\n",
    "US.head(5)"
   ]
  },
  {
   "cell_type": "code",
   "execution_count": null,
   "metadata": {},
   "outputs": [],
   "source": [
    "# Then we load employment data for USA, we use the \n",
    "US_EMP = pandas_datareader.data.DataReader(\"CE16OV\",\"fred\", 1960,2019)\n",
    "US_EMP.columns = [\"Employment\"]"
   ]
  },
  {
   "cell_type": "code",
   "execution_count": 20,
   "metadata": {},
   "outputs": [],
   "source": [
    "#Since data is monthly the annual average is calculated for each year \n",
    "a=0\n",
    "b=[]\n",
    "while a <= (708):\n",
    "    mean = US_EMP.iloc[0+a:12+a,:].mean().round(0) # Dividing the columns into segments of 12 rows, before calculating average \n",
    "    b.append(mean) # the yearly means are saved in a list\n",
    "    a+=12 #the loop moves 12 months \n",
    "\n",
    "Yearly_aggregate_mean=pd.DataFrame(b) #List turned into dataframe \n",
    "\n",
    "#\"If it works it ain't stupid\" - written in principia by Gandalf right after he blew up the Death Star, 2400 years before Mette Frederisken (the dear leader) ascended the Irone throne."
   ]
  },
  {
   "cell_type": "code",
   "execution_count": 21,
   "metadata": {},
   "outputs": [],
   "source": [
    "#US is given numerical index so the join functions can be used\n",
    "US = US.reset_index()\n",
    "#The two dataframes are joined together \n",
    "US_new = US.join(Yearly_aggregate_mean)\n",
    ""
   ]
  },
  {
   "cell_type": "code",
   "execution_count": 22,
   "metadata": {},
   "outputs": [
    {
     "output_type": "execute_result",
     "data": {
      "text/plain": "        DATE       GDP  Private Consumption  Private Investment   Import  \\\n0 1960-01-01  3259.971             2010.405             352.709  135.308   \n1 1961-01-01  3343.546             2051.639             353.838  134.401   \n2 1962-01-01  3548.409             2153.078             395.896  149.653   \n3 1963-01-01  3702.944             2241.926             422.770  153.688   \n4 1964-01-01  3916.280             2375.349             456.115  161.854   \n\n    Export  Employment  \n0  112.866     65784.0  \n1  113.473     65744.0  \n2  119.201     66702.0  \n3  127.689     67760.0  \n4  142.757     69301.0  ",
      "text/html": "<div>\n<style scoped>\n    .dataframe tbody tr th:only-of-type {\n        vertical-align: middle;\n    }\n\n    .dataframe tbody tr th {\n        vertical-align: top;\n    }\n\n    .dataframe thead th {\n        text-align: right;\n    }\n</style>\n<table border=\"1\" class=\"dataframe\">\n  <thead>\n    <tr style=\"text-align: right;\">\n      <th></th>\n      <th>DATE</th>\n      <th>GDP</th>\n      <th>Private Consumption</th>\n      <th>Private Investment</th>\n      <th>Import</th>\n      <th>Export</th>\n      <th>Employment</th>\n    </tr>\n  </thead>\n  <tbody>\n    <tr>\n      <td>0</td>\n      <td>1960-01-01</td>\n      <td>3259.971</td>\n      <td>2010.405</td>\n      <td>352.709</td>\n      <td>135.308</td>\n      <td>112.866</td>\n      <td>65784.0</td>\n    </tr>\n    <tr>\n      <td>1</td>\n      <td>1961-01-01</td>\n      <td>3343.546</td>\n      <td>2051.639</td>\n      <td>353.838</td>\n      <td>134.401</td>\n      <td>113.473</td>\n      <td>65744.0</td>\n    </tr>\n    <tr>\n      <td>2</td>\n      <td>1962-01-01</td>\n      <td>3548.409</td>\n      <td>2153.078</td>\n      <td>395.896</td>\n      <td>149.653</td>\n      <td>119.201</td>\n      <td>66702.0</td>\n    </tr>\n    <tr>\n      <td>3</td>\n      <td>1963-01-01</td>\n      <td>3702.944</td>\n      <td>2241.926</td>\n      <td>422.770</td>\n      <td>153.688</td>\n      <td>127.689</td>\n      <td>67760.0</td>\n    </tr>\n    <tr>\n      <td>4</td>\n      <td>1964-01-01</td>\n      <td>3916.280</td>\n      <td>2375.349</td>\n      <td>456.115</td>\n      <td>161.854</td>\n      <td>142.757</td>\n      <td>69301.0</td>\n    </tr>\n  </tbody>\n</table>\n</div>"
     },
     "metadata": {},
     "execution_count": 22
    }
   ],
   "source": [
    "US_new.head(5)"
   ]
  },
  {
   "cell_type": "code",
   "execution_count": 23,
   "metadata": {},
   "outputs": [],
   "source": [
    "#Index is set back to \"DATE\" \n",
    "\n",
    "US_new = US_new.set_index(\"DATE\")"
   ]
  },
  {
   "cell_type": "code",
   "execution_count": 24,
   "metadata": {},
   "outputs": [],
   "source": [
    "US_new = pd.melt(US_new.reset_index(), id_vars = US_new.index.name) #From wide to long - no idea why this works \n",
    ""
   ]
  },
  {
   "cell_type": "code",
   "execution_count": 25,
   "metadata": {},
   "outputs": [],
   "source": [
    "#The dataframe is sorted after date, and the index is reset \n",
    "US_new = US_new.sort_values(\"DATE\") \n",
    "US_new=US_new.reset_index()\n",
    "US_new=US_new.drop(\"index\",axis=1)"
   ]
  },
  {
   "cell_type": "code",
   "execution_count": 26,
   "metadata": {},
   "outputs": [
    {
     "output_type": "execute_result",
     "data": {
      "text/plain": "          DATE             variable       value\n350 2018-01-01           Employment  155760.000\n351 2018-01-01                  GDP   18638.164\n352 2018-01-01               Import    3452.980\n353 2018-01-01               Export    2532.938\n354 2019-01-01   Private Investment    3421.330\n355 2019-01-01               Import    3486.783\n356 2019-01-01  Private Consumption   13280.072\n357 2019-01-01                  GDP   19073.056\n358 2019-01-01               Export    2532.911\n359 2019-01-01           Employment  156627.000",
      "text/html": "<div>\n<style scoped>\n    .dataframe tbody tr th:only-of-type {\n        vertical-align: middle;\n    }\n\n    .dataframe tbody tr th {\n        vertical-align: top;\n    }\n\n    .dataframe thead th {\n        text-align: right;\n    }\n</style>\n<table border=\"1\" class=\"dataframe\">\n  <thead>\n    <tr style=\"text-align: right;\">\n      <th></th>\n      <th>DATE</th>\n      <th>variable</th>\n      <th>value</th>\n    </tr>\n  </thead>\n  <tbody>\n    <tr>\n      <td>350</td>\n      <td>2018-01-01</td>\n      <td>Employment</td>\n      <td>155760.000</td>\n    </tr>\n    <tr>\n      <td>351</td>\n      <td>2018-01-01</td>\n      <td>GDP</td>\n      <td>18638.164</td>\n    </tr>\n    <tr>\n      <td>352</td>\n      <td>2018-01-01</td>\n      <td>Import</td>\n      <td>3452.980</td>\n    </tr>\n    <tr>\n      <td>353</td>\n      <td>2018-01-01</td>\n      <td>Export</td>\n      <td>2532.938</td>\n    </tr>\n    <tr>\n      <td>354</td>\n      <td>2019-01-01</td>\n      <td>Private Investment</td>\n      <td>3421.330</td>\n    </tr>\n    <tr>\n      <td>355</td>\n      <td>2019-01-01</td>\n      <td>Import</td>\n      <td>3486.783</td>\n    </tr>\n    <tr>\n      <td>356</td>\n      <td>2019-01-01</td>\n      <td>Private Consumption</td>\n      <td>13280.072</td>\n    </tr>\n    <tr>\n      <td>357</td>\n      <td>2019-01-01</td>\n      <td>GDP</td>\n      <td>19073.056</td>\n    </tr>\n    <tr>\n      <td>358</td>\n      <td>2019-01-01</td>\n      <td>Export</td>\n      <td>2532.911</td>\n    </tr>\n    <tr>\n      <td>359</td>\n      <td>2019-01-01</td>\n      <td>Employment</td>\n      <td>156627.000</td>\n    </tr>\n  </tbody>\n</table>\n</div>"
     },
     "metadata": {},
     "execution_count": 26
    }
   ],
   "source": [
    "US_new.tail(10)"
   ]
  },
  {
   "cell_type": "code",
   "execution_count": 27,
   "metadata": {},
   "outputs": [],
   "source": [
    "# We were originally going to make a table akin to TABLE 13.3a on page 371 in \"Introducing Advanced Macroeconomics - Growth and Business Cycles\", but way too late did we realize, we should have used quarterly data instead of annual. Luckily this is a course in programming rather than macro economics, so we stick to the plan and make the table with annual data.\n",
    "\n",
    "# We begin creating the table, by calculating the correlation coefficient for between GDP and Private investmen, with annual lags of -2, -1, 0, 1 and 2 years.\n",
    "neg2list = []\n",
    "neg1list = []\n",
    "nolaglist = []\n",
    "pos1list = []\n",
    "pos2list = []\n",
    "\n",
    "\n",
    "for i in [\"GDP\", \"Employment\", \"Import\", \"Private Investment\", \"Private Consumption\", \"Export\"]:\n",
    "    neg2 = np.corrcoef(US_new[US_new[\"variable\"]==\"GDP\"][\"value\"].iloc[2:-2],US_new[US_new[\"variable\"]== i ]       [\"value\"].iloc[:-4])[1][0]\n",
    "    neg2list.append(neg2)\n",
    "\n",
    "    neg1 = np.corrcoef(US_new[US_new[\"variable\"]==\"GDP\"][\"value\"].iloc[2:-2],US_new[US_new[\"variable\"]== i ]       [\"value\"].iloc[1:-3])[1][0]\n",
    "    neg1list.append(neg1)\n",
    "    \n",
    "    nolag = np.corrcoef(US_new[US_new[\"variable\"]==\"GDP\"][\"value\"].iloc[2:-2],US_new[US_new[\"variable\"]== i ]       [\"value\"].iloc[2:-2])[1][0]\n",
    "\n",
    "    nolaglist.append(nolag)\n",
    "\n",
    "    pos1 = np.corrcoef(US_new[US_new[\"variable\"]==\"GDP\"][\"value\"].iloc[2:-2],US_new[US_new[\"variable\"]== i ]       [\"value\"].iloc[3:-1])[1][0]\n",
    "    pos1list.append(pos1)\n",
    "\n",
    "    pos2 = np.corrcoef(US_new[US_new[\"variable\"]==\"GDP\"][\"value\"].iloc[2:-2],US_new[US_new[\"variable\"]== i ]       [\"value\"].iloc[4:])[1][0]\n",
    "    pos2list.append(pos2)"
   ]
  },
  {
   "cell_type": "code",
   "execution_count": 28,
   "metadata": {},
   "outputs": [
    {
     "output_type": "execute_result",
     "data": {
      "text/plain": "                           -2        -1         0         1         2\nVariable                                                             \nGDP                  0.997907  0.999226  1.000000  0.999237  0.997984\nEmployment           0.974488  0.973880  0.973493  0.971706  0.968715\nImport               0.973882  0.979052  0.982801  0.983557  0.983950\nPrivate Investemt    0.980937  0.983985  0.984876  0.980555  0.976010\nPrivate Consumption  0.997021  0.998574  0.999453  0.999125  0.998258\nExport               0.972670  0.976248  0.979900  0.981904  0.983758",
      "text/html": "<div>\n<style scoped>\n    .dataframe tbody tr th:only-of-type {\n        vertical-align: middle;\n    }\n\n    .dataframe tbody tr th {\n        vertical-align: top;\n    }\n\n    .dataframe thead th {\n        text-align: right;\n    }\n</style>\n<table border=\"1\" class=\"dataframe\">\n  <thead>\n    <tr style=\"text-align: right;\">\n      <th></th>\n      <th>-2</th>\n      <th>-1</th>\n      <th>0</th>\n      <th>1</th>\n      <th>2</th>\n    </tr>\n    <tr>\n      <th>Variable</th>\n      <th></th>\n      <th></th>\n      <th></th>\n      <th></th>\n      <th></th>\n    </tr>\n  </thead>\n  <tbody>\n    <tr>\n      <td>GDP</td>\n      <td>0.997907</td>\n      <td>0.999226</td>\n      <td>1.000000</td>\n      <td>0.999237</td>\n      <td>0.997984</td>\n    </tr>\n    <tr>\n      <td>Employment</td>\n      <td>0.974488</td>\n      <td>0.973880</td>\n      <td>0.973493</td>\n      <td>0.971706</td>\n      <td>0.968715</td>\n    </tr>\n    <tr>\n      <td>Import</td>\n      <td>0.973882</td>\n      <td>0.979052</td>\n      <td>0.982801</td>\n      <td>0.983557</td>\n      <td>0.983950</td>\n    </tr>\n    <tr>\n      <td>Private Investemt</td>\n      <td>0.980937</td>\n      <td>0.983985</td>\n      <td>0.984876</td>\n      <td>0.980555</td>\n      <td>0.976010</td>\n    </tr>\n    <tr>\n      <td>Private Consumption</td>\n      <td>0.997021</td>\n      <td>0.998574</td>\n      <td>0.999453</td>\n      <td>0.999125</td>\n      <td>0.998258</td>\n    </tr>\n    <tr>\n      <td>Export</td>\n      <td>0.972670</td>\n      <td>0.976248</td>\n      <td>0.979900</td>\n      <td>0.981904</td>\n      <td>0.983758</td>\n    </tr>\n  </tbody>\n</table>\n</div>"
     },
     "metadata": {},
     "execution_count": 28
    }
   ],
   "source": [
    "d = {\"-2\": neg2list, \"-1\": neg1list, \"0\": nolaglist, \"1\": pos1list, \"2\": pos2list}\n",
    "dutufrume = pd.DataFrame(data=d)\n",
    "\n",
    "dutufrumevars = {\"Variable\":[\"GDP\", \"Employment\", \"Import\", \"Private Investemt\", \"Private Consumption\",\"Export\"]}\n",
    "dutufrumevarsdutu = pd.DataFrame(data = dutufrumevars)\n",
    "\n",
    "dutufrume = dutufrume.join(dutufrumevarsdutu)\n",
    "dutufrume = dutufrume.set_index(\"Variable\")\n",
    "dutufrume\n",
    ""
   ]
  },
  {
   "cell_type": "code",
   "execution_count": 29,
   "metadata": {},
   "outputs": [
    {
     "output_type": "execute_result",
     "data": {
      "text/plain": "16      3548.409\n19      3702.944\n27      3916.280\n35      4170.750\n36      4445.853\n44      4567.781\n49      4792.315\n55      4942.067\n62      4951.262\n66      5114.325\n77      5383.282\n81      5687.207\n87      5656.465\n90      5644.843\n98      5948.995\n106     6224.086\n113     6568.608\n116     6776.580\n125     6759.181\n131     6930.710\n137     6805.758\n142     7117.729\n144     7632.812\n151     7951.074\n161     8226.392\n166     8510.990\n169     8866.498\n177     9192.134\n185     9365.494\n188     9355.355\n193     9684.892\n199     9951.502\n205    10352.432\n210    10630.321\n218    11031.350\n223    11521.938\n228    12038.283\n236    12610.491\n241    13130.987\n247    13262.079\n256    13493.064\n260    13879.129\n269    14406.382\n273    14912.509\n279    15338.257\n283    15626.029\n290    15604.687\n295    15208.834\n300    15598.753\n311    15840.664\n317    16197.007\n323    16495.369\n325    16912.038\n331    17403.843\n336    17688.890\n345    18108.082\nName: value, dtype: float64"
     },
     "metadata": {},
     "execution_count": 29
    }
   ],
   "source": [
    "US_new[US_new[\"variable\"]==\"GDP\"][\"value\"].iloc[2:-2]"
   ]
  },
  {
   "cell_type": "code",
   "execution_count": 30,
   "metadata": {},
   "outputs": [
    {
     "output_type": "stream",
     "name": "stdout",
     "text": "TRANSAKT\n id = B1GQK, text = B.1*g Gross domestic product\n id = P7K, text = P.7 Imports of goods and services\n id = P71K, text = P.71 Import of goods\n id = P72K, text = P.72 Import of services\n id = TFSPR, text = Supply\n id = P6D, text = P.6 Exports of goods and services\n id = P61D, text = P.61 Export of goods\n id = P62D, text = P.62 Export of services\n id = P31S1MD, text = P.31 Private consumption\n id = P31S14D, text = P.31 Household consumption expenditure\n id = P311AD, text = Purchase of vehicles\n id = P311B_3D, text = Other goods\n id = P314A33S34D, text = Services incl. tourism\n id = P314D, text = Services\n id = P33D, text = Final consumption expenditure of resident households in the rest of the world\n id = P34D, text = Final consumption expenditure of non-resident households on the economic territory\n id = P31S15D, text = P.31 Non-profit institutions serving households (NPISH) consumption expenditure\n id = P3S13D, text = P.3 Government consumption expenditure\n id = P5GD, text = P.5g Gross capital formation\n id = P51GD, text = P.51g Gross fixed capital formation\n id = P51GD_N111, text = N.111 Dwellings\n id = P51GD_N112, text = N.112 Other buildings and structures\n id = P51GD_N11N, text = N.113-N.115 Machinery, transport equipment etc.\n id = P51GD_N117, text = N.117 Intellectual property products\n id = P52_53D, text = P.52+P.53 Changes in inventories etc.\n id = P52D, text = P.52 Changes in inventories\n id = P53D, text = P.53 Acquisitions less disposals of valuables\n id = TFUPRXP6, text = Final domestic demand\n id = TFUPR, text = Final demand\n id = EMPH_DC, text = Total actual hours worked (million hours)\n id = EMPM_DC, text = Total employment (1,000 persons)\nPRISENHED\n id = V_M, text = Current prices, (bill. DKK.)\n id = LAN_M, text = 2010-prices, chained values, (bill. DKK.)\n id = L_V, text = Period-to-period real growth (per cent) \n id = V_C, text = Pr. capita. Current prices, (1000 DKK.)\n id = L_VB, text = Contribution to GDP growth, (percentage point)\n id = LAN_C, text = Pr. capita, 2010-prices, chained values, (1000 DKK.)\n"
    }
   ],
   "source": [
    "NAI_var = Dst.get_variables(table_id = \"NAN1\")\n",
    "NAI_var\n",
    "NAI_vars = Dst.get_variables(table_id='NAN1')\n",
    "for id in ['TRANSAKT','PRISENHED']:\n",
    "    print(id)\n",
    "    values = NAI_vars.loc[NAI_vars.id == id,['values']].values[0,0]\n",
    "    for value in values:      \n",
    "        print(f' id = {value[\"id\"]}, text = {value[\"text\"]}')"
   ]
  },
  {
   "cell_type": "code",
   "execution_count": 31,
   "metadata": {},
   "outputs": [],
   "source": [
    "\n",
    "variables = {\"TRANSAKT\":[\"B1GQK\", \"P7K\", \"P6D\", \"P31S1MD\", \"P5GD\"], \"PRISENHED\":[\"LAN_M\"], \"TID\":[\"*\"]}\n",
    "NAI = Dst.get_data(table_id = \"NAN1\", variables = variables)\n",
    "NAI = NAI.drop(\"PRISENHED\", axis = 1)"
   ]
  },
  {
   "cell_type": "code",
   "execution_count": 32,
   "metadata": {},
   "outputs": [],
   "source": [
    "# Since employment data is can only be obtained for the price unit \"Current prices\" we have to get employment data seperately and then merge the two dataframes.\n",
    "EMP = Dst.get_data(table_id = \"NAN1\", variables = {\"TRANSAKT\":[\"EMPM_DC\"], \"PRISENHED\":[\"V_M\"], \"TID\":[\"*\"]})\n",
    "EMP = EMP.drop(\"PRISENHED\", axis = 1)"
   ]
  },
  {
   "cell_type": "code",
   "execution_count": 33,
   "metadata": {},
   "outputs": [],
   "source": [
    "DKDATA = pd.merge(NAI, EMP, on = [\"TRANSAKT\", \"TID\",\"INDHOLD\"], how = \"outer\")"
   ]
  },
  {
   "cell_type": "code",
   "execution_count": 34,
   "metadata": {},
   "outputs": [
    {
     "output_type": "execute_result",
     "data": {
      "text/plain": "                              TRANSAKT   TID  INDHOLD\n0         B.1*g Gross domestic product  1966    702.4\n4    P.7 Imports of goods and services  1966    112.2\n3    P.6 Exports of goods and services  1966    123.6\n270   Total employment (1,000 persons)  1966   2322.8\n1             P.31 Private consumption  1966    372.8\n2         P.5g Gross capital formation  1966    127.6\n5         B.1*g Gross domestic product  1967    741.2\n6             P.31 Private consumption  1967    397.9\n7         P.5g Gross capital formation  1967    133.7\n8    P.6 Exports of goods and services  1967    128.2",
      "text/html": "<div>\n<style scoped>\n    .dataframe tbody tr th:only-of-type {\n        vertical-align: middle;\n    }\n\n    .dataframe tbody tr th {\n        vertical-align: top;\n    }\n\n    .dataframe thead th {\n        text-align: right;\n    }\n</style>\n<table border=\"1\" class=\"dataframe\">\n  <thead>\n    <tr style=\"text-align: right;\">\n      <th></th>\n      <th>TRANSAKT</th>\n      <th>TID</th>\n      <th>INDHOLD</th>\n    </tr>\n  </thead>\n  <tbody>\n    <tr>\n      <td>0</td>\n      <td>B.1*g Gross domestic product</td>\n      <td>1966</td>\n      <td>702.4</td>\n    </tr>\n    <tr>\n      <td>4</td>\n      <td>P.7 Imports of goods and services</td>\n      <td>1966</td>\n      <td>112.2</td>\n    </tr>\n    <tr>\n      <td>3</td>\n      <td>P.6 Exports of goods and services</td>\n      <td>1966</td>\n      <td>123.6</td>\n    </tr>\n    <tr>\n      <td>270</td>\n      <td>Total employment (1,000 persons)</td>\n      <td>1966</td>\n      <td>2322.8</td>\n    </tr>\n    <tr>\n      <td>1</td>\n      <td>P.31 Private consumption</td>\n      <td>1966</td>\n      <td>372.8</td>\n    </tr>\n    <tr>\n      <td>2</td>\n      <td>P.5g Gross capital formation</td>\n      <td>1966</td>\n      <td>127.6</td>\n    </tr>\n    <tr>\n      <td>5</td>\n      <td>B.1*g Gross domestic product</td>\n      <td>1967</td>\n      <td>741.2</td>\n    </tr>\n    <tr>\n      <td>6</td>\n      <td>P.31 Private consumption</td>\n      <td>1967</td>\n      <td>397.9</td>\n    </tr>\n    <tr>\n      <td>7</td>\n      <td>P.5g Gross capital formation</td>\n      <td>1967</td>\n      <td>133.7</td>\n    </tr>\n    <tr>\n      <td>8</td>\n      <td>P.6 Exports of goods and services</td>\n      <td>1967</td>\n      <td>128.2</td>\n    </tr>\n  </tbody>\n</table>\n</div>"
     },
     "metadata": {},
     "execution_count": 34
    }
   ],
   "source": [
    "DKDATA = DKDATA.sort_values(\"TID\")\n",
    "DKDATA.head(10)"
   ]
  },
  {
   "cell_type": "markdown",
   "metadata": {},
   "source": [
    "## Income data"
   ]
  },
  {
   "cell_type": "code",
   "execution_count": 35,
   "metadata": {},
   "outputs": [],
   "source": [
    "g={\"B.1*g Gross domestic product\":\"GDP\",\"P.7 Imports of goods and services\":\"Import\",\"P.6 Exports of goods and services\":\"Export\",\"Total employment (1,000 persons)\":\"Employment\",\"P.31 Private consumption\":\"Consumption\",\"P.5g Gross capital formation\":\"Investment\"}"
   ]
  },
  {
   "cell_type": "markdown",
   "metadata": {},
   "source": [
    "## Explore data set"
   ]
  },
  {
   "cell_type": "code",
   "execution_count": 36,
   "metadata": {},
   "outputs": [],
   "source": [
    "for key, value in g.items():\n",
    "    DKDATA.TRANSAKT.replace(key,value,inplace=True)"
   ]
  },
  {
   "cell_type": "markdown",
   "metadata": {},
   "source": [
    "# Merge data sets"
   ]
  },
  {
   "cell_type": "code",
   "execution_count": 37,
   "metadata": {},
   "outputs": [],
   "source": [
    "DKDATA =DKDATA.reset_index()\n",
    "DKDATA = DKDATA.drop(\"index\", axis=1)"
   ]
  },
  {
   "cell_type": "code",
   "execution_count": 39,
   "metadata": {},
   "outputs": [
    {
     "output_type": "execute_result",
     "data": {
      "text/plain": "      TRANSAKT   TID  INDHOLD\n0          GDP  1966    702.4\n1       Import  1966    112.2\n2       Export  1966    123.6\n3   Employment  1966   2322.8\n4  Consumption  1966    372.8\n5   Investment  1966    127.6\n6          GDP  1967    741.2\n7  Consumption  1967    397.9\n8   Investment  1967    133.7\n9       Export  1967    128.2",
      "text/html": "<div>\n<style scoped>\n    .dataframe tbody tr th:only-of-type {\n        vertical-align: middle;\n    }\n\n    .dataframe tbody tr th {\n        vertical-align: top;\n    }\n\n    .dataframe thead th {\n        text-align: right;\n    }\n</style>\n<table border=\"1\" class=\"dataframe\">\n  <thead>\n    <tr style=\"text-align: right;\">\n      <th></th>\n      <th>TRANSAKT</th>\n      <th>TID</th>\n      <th>INDHOLD</th>\n    </tr>\n  </thead>\n  <tbody>\n    <tr>\n      <td>0</td>\n      <td>GDP</td>\n      <td>1966</td>\n      <td>702.4</td>\n    </tr>\n    <tr>\n      <td>1</td>\n      <td>Import</td>\n      <td>1966</td>\n      <td>112.2</td>\n    </tr>\n    <tr>\n      <td>2</td>\n      <td>Export</td>\n      <td>1966</td>\n      <td>123.6</td>\n    </tr>\n    <tr>\n      <td>3</td>\n      <td>Employment</td>\n      <td>1966</td>\n      <td>2322.8</td>\n    </tr>\n    <tr>\n      <td>4</td>\n      <td>Consumption</td>\n      <td>1966</td>\n      <td>372.8</td>\n    </tr>\n    <tr>\n      <td>5</td>\n      <td>Investment</td>\n      <td>1966</td>\n      <td>127.6</td>\n    </tr>\n    <tr>\n      <td>6</td>\n      <td>GDP</td>\n      <td>1967</td>\n      <td>741.2</td>\n    </tr>\n    <tr>\n      <td>7</td>\n      <td>Consumption</td>\n      <td>1967</td>\n      <td>397.9</td>\n    </tr>\n    <tr>\n      <td>8</td>\n      <td>Investment</td>\n      <td>1967</td>\n      <td>133.7</td>\n    </tr>\n    <tr>\n      <td>9</td>\n      <td>Export</td>\n      <td>1967</td>\n      <td>128.2</td>\n    </tr>\n  </tbody>\n</table>\n</div>"
     },
     "metadata": {},
     "execution_count": 39
    }
   ],
   "source": [
    "DKDATA.head(10)"
   ]
  },
  {
   "cell_type": "markdown",
   "metadata": {},
   "source": [
    "ADD FURTHER ANALYSIS. EXPLAIN THE CODE BRIEFLY AND SUMMARIZE THE RESULTS."
   ]
  },
  {
   "cell_type": "markdown",
   "metadata": {},
   "source": [
    "# Conclusion"
   ]
  },
  {
   "cell_type": "markdown",
   "metadata": {},
   "source": [
    "ADD CONCISE CONLUSION."
   ]
  },
  {
   "cell_type": "code",
   "execution_count": 40,
   "metadata": {},
   "outputs": [],
   "source": [
    "my_data = {}\n",
    "my_data[\"countries\"] = countries\n",
    "with open(f\"dataproject.py\", \"wb\") as f:\n",
    "    pickle.dump(my_data,f)"
   ]
  }
 ],
 "metadata": {
  "kernelspec": {
   "display_name": "Python 3",
   "language": "python",
   "name": "python3"
  },
  "language_info": {
   "codemirror_mode": {
    "name": "ipython",
    "version": 3
   },
   "file_extension": ".py",
   "mimetype": "text/x-python",
   "name": "python",
   "nbconvert_exporter": "python",
   "pygments_lexer": "ipython3",
   "version": "3.7.4-final"
  },
  "toc-autonumbering": true
 },
 "nbformat": 4,
 "nbformat_minor": 4
}