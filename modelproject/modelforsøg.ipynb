{
 "cells": [
  {
   "cell_type": "code",
   "execution_count": 15,
   "metadata": {},
   "outputs": [
    {
     "output_type": "stream",
     "name": "stdout",
     "text": "([1.0, 0.995, 0.990025], [1, 0.995, 0.990025], [0.5887040186524746, 0.5991650501334859, 0.6098125686091541], [1, 1.017740803730495, 1.0357997333841427], [0.005, 0.004975, 0.0049501250000000005])\n"
    },
    {
     "output_type": "execute_result",
     "data": {
      "text/plain": "[1000]"
     },
     "metadata": {},
     "execution_count": 15
    }
   ],
   "source": [
    "def Y(D,K,A,L,E,a,b,e):\n",
    "    return D*K**a*(A*L)**b*E**e\n",
    "def D_t(R,R_0,phi):\n",
    "    return (R/R_0)**phi\n",
    "def A_t1(A,g):\n",
    "    return A*(1+g)\n",
    "def L_t1(L,n):\n",
    "    return L*(1+n)\n",
    "def K_t1(s,Y,d,K):\n",
    "    return s*Y+(1-d)*K\n",
    "def R_t1(R,E):\n",
    "    return R-E\n",
    "def E_t(sE,R):\n",
    "    return sE*R    \n",
    "\n",
    "def modelperiodesimulering(K,A,L,R,R_0,periode=1,a=0.3,b=0.6,e=0.1,g=0.02,n=0.01,s=0.2,phi=1,sE=0.005,d=0.1):\n",
    "    listeD = []\n",
    "    listeD.append(D_t(R,R_0,phi))\n",
    "    listeA = []\n",
    "    listeA.append(A)\n",
    "    listeL = []\n",
    "    listeL.append(L)\n",
    "    listeK = []\n",
    "    listeK.append(K)\n",
    "    listeE = []\n",
    "    listeE.append(E_t(sE,R))\n",
    "    listeR = []\n",
    "    listeR.append(R)\n",
    "    listeY = []\n",
    "    listeY.append(Y(D = listeD[0],E = listeE[0],K=K,A=A,L=L,a=a,b=b,e=e))\n",
    "\n",
    "    while periode != 0:\n",
    "        listeA.append(A_t1(listeA[-1],g))\n",
    "        listeL.append(L_t1(listeL[-1],n))\n",
    "        listeR.append(R_t1(R = listeR[-1], E = listeE[-1]))\n",
    "        listeK.append(K_t1(s=s, Y=listeY[-1], d=d, K = listeK[-1]))\n",
    "        listeE.append(E_t(sE=sE,R=listeR[-1]))\n",
    "        listeD.append(D_t(listeR[-1],R_0=R_0,phi=phi))\n",
    "        listeY.append(Y(D = listeD[-1],E = listeE[-1], K = listeK[-1] , A = listeA[-1], L= listeL[-1],a=a,b=b,e=e))\n",
    "        periode = periode-1\n",
    "\n",
    "    return listeY, listeK\n",
    "\n",
    "print(modelperiodesimulering(1,1,1,1,1, periode=2))"
   ]
  },
  {
   "cell_type": "code",
   "execution_count": null,
   "metadata": {},
   "outputs": [],
   "source": []
  }
 ],
 "metadata": {
  "language_info": {
   "codemirror_mode": {
    "name": "ipython",
    "version": 3
   },
   "file_extension": ".py",
   "mimetype": "text/x-python",
   "name": "python",
   "nbconvert_exporter": "python",
   "pygments_lexer": "ipython3",
   "version": "3.7.4-final"
  },
  "orig_nbformat": 2,
  "kernelspec": {
   "name": "python37464bitabeljvirtualenve5d9a336287747bd855e9b42a29da1f4",
   "display_name": "Python 3.7.4 64-bit ('abelj': virtualenv)"
  }
 },
 "nbformat": 4,
 "nbformat_minor": 2
}